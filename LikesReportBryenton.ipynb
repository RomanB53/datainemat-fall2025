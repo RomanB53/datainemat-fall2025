{
 "cells": [
  {
   "cell_type": "markdown",
   "id": "79bb9223-2e1b-4304-b49c-494679e99eaa",
   "metadata": {},
   "source": [
    "# Instagram Likes Data Report \n",
    "**Name:** Roman Bryenton\n",
    "**Date:** 9-14-2025\n",
    "\n",
    "### Source of the data is taken from Sandeep's personal Instagram likes\n",
    "\n",
    "### Purpose of the data provided was to keep track of certain interactions on Instagram\n",
    "- allowing Instagram to improve recommendations.\n",
    "- Helps the user understand their activity and engagement trends.\n",
    "- Helps provide data to advertisers and the algorithm\n",
    "\n",
    "### Reliability of Data\n",
    "-It is directly taken from a personal Instagram account.\n",
    "-It records timestamps and the post owners.\n",
    "\n",
    "### Unreliability of Data \n",
    "- If I delete my posts or Instagram removes some of my posts, some likes may be missing. \n",
    "- The context of why I like a post is not included\n",
    " "
   ]
  },
  {
   "cell_type": "code",
   "execution_count": 24,
   "id": "3ab1c433-ba17-4293-9842-f99b9bfc9f4f",
   "metadata": {},
   "outputs": [],
   "source": [
    "import json\n",
    "import pandas as pd "
   ]
  },
  {
   "cell_type": "code",
   "execution_count": 31,
   "id": "52fe2068-1a3b-4b66-b71a-d30ef1038df5",
   "metadata": {},
   "outputs": [
    {
     "name": "stdout",
     "output_type": "stream",
     "text": [
      "dict_keys(['likes_media_likes'])\n"
     ]
    }
   ],
   "source": [
    "file_path = r\"/Users/romanbryenton/Desktop/liked_posts-1.json\" \n",
    "\n",
    "with open(file_path, \"r\") as f:\n",
    "    likes_data = json.load(f)\n",
    "\n",
    "    print(likes_data.keys())"
   ]
  },
  {
   "cell_type": "code",
   "execution_count": 33,
   "id": "7a30b869-df24-4aeb-ba10-3e319d4fe9ab",
   "metadata": {},
   "outputs": [
    {
     "data": {
      "text/plain": [
       "[{'title': 'philzphotos',\n",
       "  'string_list_data': [{'href': 'https://www.instagram.com/p/DNbPB16uDhg/',\n",
       "    'value': 'ð\\x9f\\x91\\x8d',\n",
       "    'timestamp': 1755861630}]},\n",
       " {'title': 'weave_n_wonder',\n",
       "  'string_list_data': [{'href': 'https://www.instagram.com/reel/DNp7wMTN6jP/',\n",
       "    'value': 'ð\\x9f\\x91\\x8d',\n",
       "    'timestamp': 1755861571}]}]"
      ]
     },
     "execution_count": 33,
     "metadata": {},
     "output_type": "execute_result"
    }
   ],
   "source": [
    "likes_data[\"likes_media_likes\"][:2]"
   ]
  },
  {
   "cell_type": "code",
   "execution_count": 36,
   "id": "29d9bb93-9602-499e-9e69-0183d9e169d5",
   "metadata": {},
   "outputs": [
    {
     "data": {
      "text/html": [
       "<div>\n",
       "<style scoped>\n",
       "    .dataframe tbody tr th:only-of-type {\n",
       "        vertical-align: middle;\n",
       "    }\n",
       "\n",
       "    .dataframe tbody tr th {\n",
       "        vertical-align: top;\n",
       "    }\n",
       "\n",
       "    .dataframe thead th {\n",
       "        text-align: right;\n",
       "    }\n",
       "</style>\n",
       "<table border=\"1\" class=\"dataframe\">\n",
       "  <thead>\n",
       "    <tr style=\"text-align: right;\">\n",
       "      <th></th>\n",
       "      <th>username</th>\n",
       "      <th>href</th>\n",
       "      <th>value</th>\n",
       "      <th>timestamp</th>\n",
       "    </tr>\n",
       "  </thead>\n",
       "  <tbody>\n",
       "    <tr>\n",
       "      <th>0</th>\n",
       "      <td>philzphotos</td>\n",
       "      <td>https://www.instagram.com/p/DNbPB16uDhg/</td>\n",
       "      <td>ð</td>\n",
       "      <td>2025-08-22 11:20:30</td>\n",
       "    </tr>\n",
       "    <tr>\n",
       "      <th>1</th>\n",
       "      <td>weave_n_wonder</td>\n",
       "      <td>https://www.instagram.com/reel/DNp7wMTN6jP/</td>\n",
       "      <td>ð</td>\n",
       "      <td>2025-08-22 11:19:31</td>\n",
       "    </tr>\n",
       "    <tr>\n",
       "      <th>2</th>\n",
       "      <td>weave_n_wonder</td>\n",
       "      <td>https://www.instagram.com/reel/DNoJNtQBV-W/</td>\n",
       "      <td>ð</td>\n",
       "      <td>2025-08-22 11:19:28</td>\n",
       "    </tr>\n",
       "    <tr>\n",
       "      <th>3</th>\n",
       "      <td>philzphotos</td>\n",
       "      <td>https://www.instagram.com/p/DNQjPMYOE8s/</td>\n",
       "      <td>ð</td>\n",
       "      <td>2025-08-14 12:08:36</td>\n",
       "    </tr>\n",
       "    <tr>\n",
       "      <th>4</th>\n",
       "      <td>weave_n_wonder</td>\n",
       "      <td>https://www.instagram.com/p/DMiZKYtMasb/</td>\n",
       "      <td>ð</td>\n",
       "      <td>2025-07-25 16:57:53</td>\n",
       "    </tr>\n",
       "    <tr>\n",
       "      <th>5</th>\n",
       "      <td>nidhigoels</td>\n",
       "      <td>https://www.instagram.com/p/DJiamRARwut/</td>\n",
       "      <td>ð</td>\n",
       "      <td>2025-05-25 13:04:20</td>\n",
       "    </tr>\n",
       "    <tr>\n",
       "      <th>6</th>\n",
       "      <td>somosreedutt</td>\n",
       "      <td>https://www.instagram.com/p/DJ7N-GJA-87/</td>\n",
       "      <td>ð</td>\n",
       "      <td>2025-05-25 13:04:17</td>\n",
       "    </tr>\n",
       "    <tr>\n",
       "      <th>7</th>\n",
       "      <td>philzphotos</td>\n",
       "      <td>https://www.instagram.com/p/DJzVepWuNZd/</td>\n",
       "      <td>ð</td>\n",
       "      <td>2025-05-25 13:03:33</td>\n",
       "    </tr>\n",
       "    <tr>\n",
       "      <th>8</th>\n",
       "      <td>philzphotos</td>\n",
       "      <td>https://www.instagram.com/p/DH9un-FMI8Y/</td>\n",
       "      <td>ð</td>\n",
       "      <td>2025-04-07 20:19:10</td>\n",
       "    </tr>\n",
       "    <tr>\n",
       "      <th>9</th>\n",
       "      <td>philzphotos</td>\n",
       "      <td>https://www.instagram.com/p/DHUig05Mb4Q/</td>\n",
       "      <td>ð</td>\n",
       "      <td>2025-03-30 12:38:28</td>\n",
       "    </tr>\n",
       "  </tbody>\n",
       "</table>\n",
       "</div>"
      ],
      "text/plain": [
       "         username                                         href value  \\\n",
       "0     philzphotos     https://www.instagram.com/p/DNbPB16uDhg/  ð   \n",
       "1  weave_n_wonder  https://www.instagram.com/reel/DNp7wMTN6jP/  ð   \n",
       "2  weave_n_wonder  https://www.instagram.com/reel/DNoJNtQBV-W/  ð   \n",
       "3     philzphotos     https://www.instagram.com/p/DNQjPMYOE8s/  ð   \n",
       "4  weave_n_wonder     https://www.instagram.com/p/DMiZKYtMasb/  ð   \n",
       "5      nidhigoels     https://www.instagram.com/p/DJiamRARwut/  ð   \n",
       "6    somosreedutt     https://www.instagram.com/p/DJ7N-GJA-87/  ð   \n",
       "7     philzphotos     https://www.instagram.com/p/DJzVepWuNZd/  ð   \n",
       "8     philzphotos     https://www.instagram.com/p/DH9un-FMI8Y/  ð   \n",
       "9     philzphotos     https://www.instagram.com/p/DHUig05Mb4Q/  ð   \n",
       "\n",
       "            timestamp  \n",
       "0 2025-08-22 11:20:30  \n",
       "1 2025-08-22 11:19:31  \n",
       "2 2025-08-22 11:19:28  \n",
       "3 2025-08-14 12:08:36  \n",
       "4 2025-07-25 16:57:53  \n",
       "5 2025-05-25 13:04:20  \n",
       "6 2025-05-25 13:04:17  \n",
       "7 2025-05-25 13:03:33  \n",
       "8 2025-04-07 20:19:10  \n",
       "9 2025-03-30 12:38:28  "
      ]
     },
     "execution_count": 36,
     "metadata": {},
     "output_type": "execute_result"
    }
   ],
   "source": [
    "# Create a list to hold tidy data\n",
    "tidy_likes = []\n",
    "\n",
    "for like in likes_data['likes_media_likes']:\n",
    "    account = like['title']\n",
    "    for item in like['string_list_data']:\n",
    "        tidy_likes.append({\n",
    "            'username': account,\n",
    "            'href': item.get('href'),\n",
    "            'value': item.get('value'),\n",
    "            'timestamp': item.get('timestamp')\n",
    "        })\n",
    "\n",
    "# Convert to DataFrame\n",
    "liked_posts_df = pd.DataFrame(tidy_likes)\n",
    "\n",
    "# Convert timestamp to datetime\n",
    "liked_posts_df['timestamp'] = pd.to_datetime(liked_posts_df['timestamp'], unit='s')  # timestamps are in seconds\n",
    "\n",
    "# Display first 10 rows\n",
    "liked_posts_df.head(10)"
   ]
  },
  {
   "cell_type": "code",
   "execution_count": 41,
   "id": "b7114a30-5b43-4523-88d9-dbbe24fe2def",
   "metadata": {},
   "outputs": [
    {
     "name": "stdout",
     "output_type": "stream",
     "text": [
      "          username  like_count\n",
      "3      philzphotos           6\n",
      "6   weave_n_wonder           3\n",
      "0  kabirbhatiatime           1\n",
      "1     mauliksuchde           1\n",
      "2       nidhigoels           1\n",
      "4     somosreedutt           1\n",
      "5         urjya.co           1\n"
     ]
    }
   ],
   "source": [
    "# Group by username and count the number of likes\n",
    "likes_summary = liked_posts_df.groupby('username').size().reset_index(name='like_count')\n",
    "\n",
    "# Sort by like_count in descending order for better readability\n",
    "likes_summary = likes_summary.sort_values(by='like_count', ascending=False)\n",
    "\n",
    "# Display the summary\n",
    "print(likes_summary)"
   ]
  },
  {
   "cell_type": "markdown",
   "id": "f30b5493-59f4-410d-acf3-8b4af91d0430",
   "metadata": {},
   "source": [
    "### Hypothesis\n",
    "**I theorize that people tend to like more posts late at night than durning the daytime.**\n",
    "- Theorectical: Social media usage usally increases in the evening and nighttime\n",
    "- Statistical: I could test this by grouping likes by hour of the day and compare freuquencys\n"
   ]
  },
  {
   "cell_type": "markdown",
   "id": "52cf22bd-e6eb-467c-94f9-c5830909cc13",
   "metadata": {},
   "source": [
    "### Chosen File: your-activty_across_instragram.json\n",
    "This file contains comments you made on instragram showing the timing of comments activty aligns with higher social media usage in the evening"
   ]
  },
  {
   "cell_type": "code",
   "execution_count": 43,
   "id": "7449ac2b-5921-4835-9832-dadff5e3f169",
   "metadata": {},
   "outputs": [
    {
     "ename": "FileNotFoundError",
     "evalue": "[Errno 2] No such file or directory: 'liked_posts-1.json'",
     "output_type": "error",
     "traceback": [
      "\u001b[31m---------------------------------------------------------------------------\u001b[39m",
      "\u001b[31mFileNotFoundError\u001b[39m                         Traceback (most recent call last)",
      "\u001b[36mCell\u001b[39m\u001b[36m \u001b[39m\u001b[32mIn[43]\u001b[39m\u001b[32m, line 5\u001b[39m\n\u001b[32m      2\u001b[39m \u001b[38;5;28;01mimport\u001b[39;00m\u001b[38;5;250m \u001b[39m\u001b[34;01mpandas\u001b[39;00m\u001b[38;5;250m \u001b[39m\u001b[38;5;28;01mas\u001b[39;00m\u001b[38;5;250m \u001b[39m\u001b[34;01mpd\u001b[39;00m\n\u001b[32m      4\u001b[39m \u001b[38;5;66;03m# load json file\u001b[39;00m\n\u001b[32m----> \u001b[39m\u001b[32m5\u001b[39m \u001b[38;5;28;01mwith\u001b[39;00m \u001b[38;5;28mopen\u001b[39m(\u001b[33m'\u001b[39m\u001b[33mliked_posts-1.json\u001b[39m\u001b[33m'\u001b[39m, \u001b[33m'\u001b[39m\u001b[33mr\u001b[39m\u001b[33m'\u001b[39m) \u001b[38;5;28;01mas\u001b[39;00m file:\n\u001b[32m      6\u001b[39m    likes_data = json.load(file)\n\u001b[32m      8\u001b[39m \u001b[38;5;66;03m# Type of loaded data\u001b[39;00m\n",
      "\u001b[36mFile \u001b[39m\u001b[32m/opt/anaconda3/envs/data-fa25/lib/python3.12/site-packages/IPython/core/interactiveshell.py:326\u001b[39m, in \u001b[36m_modified_open\u001b[39m\u001b[34m(file, *args, **kwargs)\u001b[39m\n\u001b[32m    319\u001b[39m \u001b[38;5;28;01mif\u001b[39;00m file \u001b[38;5;129;01min\u001b[39;00m {\u001b[32m0\u001b[39m, \u001b[32m1\u001b[39m, \u001b[32m2\u001b[39m}:\n\u001b[32m    320\u001b[39m     \u001b[38;5;28;01mraise\u001b[39;00m \u001b[38;5;167;01mValueError\u001b[39;00m(\n\u001b[32m    321\u001b[39m         \u001b[33mf\u001b[39m\u001b[33m\"\u001b[39m\u001b[33mIPython won\u001b[39m\u001b[33m'\u001b[39m\u001b[33mt let you open fd=\u001b[39m\u001b[38;5;132;01m{\u001b[39;00mfile\u001b[38;5;132;01m}\u001b[39;00m\u001b[33m by default \u001b[39m\u001b[33m\"\u001b[39m\n\u001b[32m    322\u001b[39m         \u001b[33m\"\u001b[39m\u001b[33mas it is likely to crash IPython. If you know what you are doing, \u001b[39m\u001b[33m\"\u001b[39m\n\u001b[32m    323\u001b[39m         \u001b[33m\"\u001b[39m\u001b[33myou can use builtins\u001b[39m\u001b[33m'\u001b[39m\u001b[33m open.\u001b[39m\u001b[33m\"\u001b[39m\n\u001b[32m    324\u001b[39m     )\n\u001b[32m--> \u001b[39m\u001b[32m326\u001b[39m \u001b[38;5;28;01mreturn\u001b[39;00m io_open(file, *args, **kwargs)\n",
      "\u001b[31mFileNotFoundError\u001b[39m: [Errno 2] No such file or directory: 'liked_posts-1.json'"
     ]
    }
   ],
   "source": [
    "import json\n",
    "import pandas as pd\n",
    "\n",
    "# load json file\n",
    "with open('liked_posts-1.json', 'r') as file:\n",
    "   likes_data = json.load(file)\n",
    "\n",
    "# Type of loaded data\n",
    "type(likes_data)\n",
    "\n",
    "# preview the first item\n",
    "likes_data[0]"
   ]
  },
  {
   "cell_type": "code",
   "execution_count": 45,
   "id": "0df35efe-ec91-4e6b-9d48-0a517693e48e",
   "metadata": {},
   "outputs": [
    {
     "data": {
      "text/html": [
       "<div>\n",
       "<style scoped>\n",
       "    .dataframe tbody tr th:only-of-type {\n",
       "        vertical-align: middle;\n",
       "    }\n",
       "\n",
       "    .dataframe tbody tr th {\n",
       "        vertical-align: top;\n",
       "    }\n",
       "\n",
       "    .dataframe thead th {\n",
       "        text-align: right;\n",
       "    }\n",
       "</style>\n",
       "<table border=\"1\" class=\"dataframe\">\n",
       "  <thead>\n",
       "    <tr style=\"text-align: right;\">\n",
       "      <th></th>\n",
       "      <th>likes_media_likes</th>\n",
       "    </tr>\n",
       "  </thead>\n",
       "  <tbody>\n",
       "    <tr>\n",
       "      <th>0</th>\n",
       "      <td>{'title': 'philzphotos', 'string_list_data': [...</td>\n",
       "    </tr>\n",
       "    <tr>\n",
       "      <th>1</th>\n",
       "      <td>{'title': 'weave_n_wonder', 'string_list_data'...</td>\n",
       "    </tr>\n",
       "    <tr>\n",
       "      <th>2</th>\n",
       "      <td>{'title': 'weave_n_wonder', 'string_list_data'...</td>\n",
       "    </tr>\n",
       "    <tr>\n",
       "      <th>3</th>\n",
       "      <td>{'title': 'philzphotos', 'string_list_data': [...</td>\n",
       "    </tr>\n",
       "    <tr>\n",
       "      <th>4</th>\n",
       "      <td>{'title': 'weave_n_wonder', 'string_list_data'...</td>\n",
       "    </tr>\n",
       "    <tr>\n",
       "      <th>5</th>\n",
       "      <td>{'title': 'nidhigoels', 'string_list_data': [{...</td>\n",
       "    </tr>\n",
       "    <tr>\n",
       "      <th>6</th>\n",
       "      <td>{'title': 'somosreedutt', 'string_list_data': ...</td>\n",
       "    </tr>\n",
       "    <tr>\n",
       "      <th>7</th>\n",
       "      <td>{'title': 'philzphotos', 'string_list_data': [...</td>\n",
       "    </tr>\n",
       "    <tr>\n",
       "      <th>8</th>\n",
       "      <td>{'title': 'philzphotos', 'string_list_data': [...</td>\n",
       "    </tr>\n",
       "    <tr>\n",
       "      <th>9</th>\n",
       "      <td>{'title': 'philzphotos', 'string_list_data': [...</td>\n",
       "    </tr>\n",
       "  </tbody>\n",
       "</table>\n",
       "</div>"
      ],
      "text/plain": [
       "                                   likes_media_likes\n",
       "0  {'title': 'philzphotos', 'string_list_data': [...\n",
       "1  {'title': 'weave_n_wonder', 'string_list_data'...\n",
       "2  {'title': 'weave_n_wonder', 'string_list_data'...\n",
       "3  {'title': 'philzphotos', 'string_list_data': [...\n",
       "4  {'title': 'weave_n_wonder', 'string_list_data'...\n",
       "5  {'title': 'nidhigoels', 'string_list_data': [{...\n",
       "6  {'title': 'somosreedutt', 'string_list_data': ...\n",
       "7  {'title': 'philzphotos', 'string_list_data': [...\n",
       "8  {'title': 'philzphotos', 'string_list_data': [...\n",
       "9  {'title': 'philzphotos', 'string_list_data': [..."
      ]
     },
     "execution_count": 45,
     "metadata": {},
     "output_type": "execute_result"
    }
   ],
   "source": [
    "# convert JSON to DataFrame \n",
    "likes_df = pd.DataFrame(likes_data)\n",
    "\n",
    "# display first 10 rows\n",
    "likes_df.head(10)"
   ]
  },
  {
   "cell_type": "markdown",
   "id": "73572e1e-c834-41b8-95db-2b4bb72b39bc",
   "metadata": {},
   "source": [
    "# Description of DataFrame:\n",
    "- Each row represents a post liked\n",
    "- The DataFrame is mostly tidy: each variable is a columun and each observation in a row\n",
    "- some nested fields such as post creator details may need more normalization\n",
    "- the data can help test my hypothesis because it shows the liked posts from and when, allowing anaylis of a liking pattern\n"
   ]
  },
  {
   "cell_type": "code",
   "execution_count": null,
   "id": "bfc1fe3d-f423-4668-a9f1-a18fa4d2c2cc",
   "metadata": {},
   "outputs": [],
   "source": []
  }
 ],
 "metadata": {
  "kernelspec": {
   "display_name": "Python 3 (ipykernel)",
   "language": "python",
   "name": "python3"
  },
  "language_info": {
   "codemirror_mode": {
    "name": "ipython",
    "version": 3
   },
   "file_extension": ".py",
   "mimetype": "text/x-python",
   "name": "python",
   "nbconvert_exporter": "python",
   "pygments_lexer": "ipython3",
   "version": "3.12.11"
  }
 },
 "nbformat": 4,
 "nbformat_minor": 5
}
