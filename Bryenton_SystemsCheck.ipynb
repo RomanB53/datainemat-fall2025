{
 "cells": [
  {
   "cell_type": "markdown",
   "id": "fef1b2ff-f569-41b9-9ac2-21a2ffd5cc8e",
   "metadata": {},
   "source": [
    "# Systems Check\n",
    "__Roman Bryenton__\n",
    " ## What I would like to get out of this class\n",
    " 1. More how data and EMAT _intersect_\n",
    " 2. Learn Python\n",
    "    - What is Python used for today\n",
    "    - Why do we use Python?\n",
    "4. More understanding about data and how we categorize it\n",
    "   ![Python](https://upload.wikimedia.org/wikipedia/commons/thumb/c/c3/Python-logo-notext.svg/300px-Python-logo-notext.svg.png)"
   ]
  },
  {
   "cell_type": "code",
   "execution_count": null,
   "id": "82ad40d0-3f5b-48c6-9dd6-9f8d4e65c262",
   "metadata": {},
   "outputs": [],
   "source": []
  },
  {
   "cell_type": "code",
   "execution_count": null,
   "id": "65cd8994-328b-41a3-90a6-5c60c99bb711",
   "metadata": {},
   "outputs": [],
   "source": []
  }
 ],
 "metadata": {
  "kernelspec": {
   "display_name": "Python [conda env:base] *",
   "language": "python",
   "name": "conda-base-py"
  },
  "language_info": {
   "codemirror_mode": {
    "name": "ipython",
    "version": 3
   },
   "file_extension": ".py",
   "mimetype": "text/x-python",
   "name": "python",
   "nbconvert_exporter": "python",
   "pygments_lexer": "ipython3",
   "version": "3.13.5"
  }
 },
 "nbformat": 4,
 "nbformat_minor": 5
}
